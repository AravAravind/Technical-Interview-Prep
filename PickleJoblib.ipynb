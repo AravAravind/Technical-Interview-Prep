{
 "cells": [
  {
   "cell_type": "markdown",
   "id": "f0f18405-dd01-4bf5-b2f4-515d13f1aea0",
   "metadata": {},
   "source": [
    "This file is to check the pickle file "
   ]
  },
  {
   "cell_type": "code",
   "execution_count": null,
   "id": "f6d4293d-1aec-49bb-8edb-17029ae07906",
   "metadata": {},
   "outputs": [],
   "source": [
    "import pickle"
   ]
  },
  {
   "cell_type": "code",
   "execution_count": null,
   "id": "597dd912-b418-4410-9795-1b3f350d13ab",
   "metadata": {},
   "outputs": [],
   "source": [
    "with open ('linear_pickle_model','rb') as sample_model:\n",
    "    sample = pickle.load(sample_model)\n",
    "    "
   ]
  },
  {
   "cell_type": "code",
   "execution_count": null,
   "id": "e48bc04b-2ae7-40c1-b2eb-41d1324ccf0c",
   "metadata": {},
   "outputs": [],
   "source": [
    "sample.predict([[2020]])"
   ]
  },
  {
   "cell_type": "code",
   "execution_count": null,
   "id": "deb2b3f4-a86b-4e1a-aca6-ddeac32ad829",
   "metadata": {},
   "outputs": [],
   "source": [
    "sample.coef_"
   ]
  },
  {
   "cell_type": "code",
   "execution_count": null,
   "id": "c5623e98-a97b-4665-809a-71d9dae398f9",
   "metadata": {},
   "outputs": [],
   "source": [
    "sample.intercept_"
   ]
  },
  {
   "cell_type": "code",
   "execution_count": 2,
   "id": "26854506-8fc3-4441-aa68-8fe728b349b1",
   "metadata": {},
   "outputs": [],
   "source": [
    "import joblib"
   ]
  },
  {
   "cell_type": "code",
   "execution_count": 4,
   "id": "78baa273-6d98-4e7d-b157-a061a0356126",
   "metadata": {},
   "outputs": [],
   "source": [
    "jbllinear=joblib.load('linear_model')"
   ]
  },
  {
   "cell_type": "code",
   "execution_count": 5,
   "id": "79e797ff-5f01-4c26-a04e-6816f1ad6466",
   "metadata": {},
   "outputs": [
    {
     "name": "stderr",
     "output_type": "stream",
     "text": [
      "C:\\Software\\PYTHON\\Lib\\site-packages\\sklearn\\base.py:465: UserWarning: X does not have valid feature names, but LinearRegression was fitted with feature names\n",
      "  warnings.warn(\n"
     ]
    },
    {
     "data": {
      "text/plain": [
       "array([41288.69409442])"
      ]
     },
     "execution_count": 5,
     "metadata": {},
     "output_type": "execute_result"
    }
   ],
   "source": [
    "jbllinear.predict([[2020]])"
   ]
  },
  {
   "cell_type": "code",
   "execution_count": 6,
   "id": "5209b2bc-c691-468e-97bb-3296008c8852",
   "metadata": {},
   "outputs": [
    {
     "data": {
      "text/plain": [
       "array([828.46507522])"
      ]
     },
     "execution_count": 6,
     "metadata": {},
     "output_type": "execute_result"
    }
   ],
   "source": [
    "jbllinear.coef_"
   ]
  },
  {
   "cell_type": "code",
   "execution_count": 7,
   "id": "45c49a13-c13e-42e6-aa93-02f3599d77a3",
   "metadata": {},
   "outputs": [
    {
     "data": {
      "text/plain": [
       "-1632210.7578554575"
      ]
     },
     "execution_count": 7,
     "metadata": {},
     "output_type": "execute_result"
    }
   ],
   "source": [
    "jbllinear.intercept_"
   ]
  },
  {
   "cell_type": "code",
   "execution_count": null,
   "id": "00f772b2-746c-4867-a888-bd04053b10e1",
   "metadata": {},
   "outputs": [],
   "source": []
  }
 ],
 "metadata": {
  "kernelspec": {
   "display_name": "Python 3 (ipykernel)",
   "language": "python",
   "name": "python3"
  },
  "language_info": {
   "codemirror_mode": {
    "name": "ipython",
    "version": 3
   },
   "file_extension": ".py",
   "mimetype": "text/x-python",
   "name": "python",
   "nbconvert_exporter": "python",
   "pygments_lexer": "ipython3",
   "version": "3.12.0"
  }
 },
 "nbformat": 4,
 "nbformat_minor": 5
}
