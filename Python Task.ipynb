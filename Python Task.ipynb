{
 "cells": [
  {
   "cell_type": "code",
   "execution_count": null,
   "id": "26ce0000-c1c9-41ef-b32b-d64f06373ccb",
   "metadata": {},
   "outputs": [
    {
     "name": "stdout",
     "output_type": "stream",
     "text": [
      "\n",
      "Simple Calculator\n",
      "Choose an operation:\n",
      "1 - Addition\n",
      "2 - Subtraction\n",
      "3 - Multiplication\n",
      "4 - Division\n",
      "5 - Exit\n"
     ]
    },
    {
     "name": "stdin",
     "output_type": "stream",
     "text": [
      "Enter your choice (1-5):  4\n",
      "Enter the first number:  Aravind\n"
     ]
    },
    {
     "name": "stdout",
     "output_type": "stream",
     "text": [
      "Invalid input. Please enter numeric values.\n",
      "\n",
      "Simple Calculator\n",
      "Choose an operation:\n",
      "1 - Addition\n",
      "2 - Subtraction\n",
      "3 - Multiplication\n",
      "4 - Division\n",
      "5 - Exit\n"
     ]
    }
   ],
   "source": [
    "def calc():\n",
    "    while True:\n",
    "        print(\"\\nSimple Calculator\")\n",
    "        print(\"Choose an operation:\")\n",
    "        print(\"1 - Addition\")\n",
    "        print(\"2 - Subtraction\")\n",
    "        print(\"3 - Multiplication\")\n",
    "        print(\"4 - Division\")\n",
    "        print(\"5 - Exit\")\n",
    "        choice = input(\"Enter your choice (1-5): \")\n",
    "        if choice == '5':\n",
    "            print(\"Exiting the calculator. Goodbye!\")\n",
    "            break\n",
    "        if choice in ['1', '2', '3', '4']:\n",
    "            try:\n",
    "                num1 = float(input(\"Enter the first number: \"))\n",
    "                num2 = float(input(\"Enter the second number: \"))\n",
    "                if choice == '1':\n",
    "                    result = num1 + num2\n",
    "                    print(f\"The result of addition is: {result}\")\n",
    "                elif choice == '2':\n",
    "                    result = num1 - num2\n",
    "                    print(f\"The result of subtraction is: {result}\")\n",
    "                elif choice == '3':\n",
    "                    result = num1 * num2\n",
    "                    print(f\"The result of multiplication is: {result}\")\n",
    "                elif choice == '4':\n",
    "                    if num2 != 0:\n",
    "                        result = num1 / num2\n",
    "                        print(f\"The result of division is: {result}\")\n",
    "                    else:\n",
    "                        print(\"Error: Cannot divide by zero.\")\n",
    "            except ValueError:\n",
    "                print(\"Invalid input. Please enter numeric values.\")\n",
    "        else:\n",
    "            print(\"Invalid choice. Please select a number between 1 and 5.\")\n",
    "\n",
    "calc()\n"
   ]
  },
  {
   "cell_type": "code",
   "execution_count": null,
   "id": "e096eae6-3125-48e1-8c74-afe4f2471514",
   "metadata": {},
   "outputs": [],
   "source": []
  }
 ],
 "metadata": {
  "kernelspec": {
   "display_name": "Python 3 (ipykernel)",
   "language": "python",
   "name": "python3"
  },
  "language_info": {
   "codemirror_mode": {
    "name": "ipython",
    "version": 3
   },
   "file_extension": ".py",
   "mimetype": "text/x-python",
   "name": "python",
   "nbconvert_exporter": "python",
   "pygments_lexer": "ipython3",
   "version": "3.12.7"
  }
 },
 "nbformat": 4,
 "nbformat_minor": 5
}
